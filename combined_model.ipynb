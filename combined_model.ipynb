{
 "cells": [
  {
   "cell_type": "code",
   "execution_count": 1,
   "metadata": {},
   "outputs": [],
   "source": [
    "import pandas as pd\n",
    "import numpy as np\n",
    "from scipy import stats\n",
    "from sklearn.preprocessing import StandardScaler\n",
    "\n",
    "df = pd.read_csv('combined-training.csv')\n",
    "scaler = StandardScaler()\n",
    "\n",
    "#Removing outliers from X2, X3, X4, X5, and X7 using Z-score method\n",
    "z_scores = np.abs(stats.zscore(df[['x1', 'x2', 'x3', 'x4', 'x5', 'x6', 'x7']]))\n",
    "df_no_outliers = df[(z_scores < 3).all(axis=1)]\n",
    "\n",
    "#Standardizing the data\n",
    "scaled_features = scaler.fit_transform(df_no_outliers[['x1', 'x2', 'x3', 'x4', 'x5', 'x6', 'x7']])\n",
    "\n",
    "#Creating a new DataFrame with the standardized data\n",
    "df_processed = pd.DataFrame(scaled_features, columns=['x1', 'x2', 'x3', 'x4', 'x5', 'x6', 'x7'])\n"
   ]
  },
  {
   "cell_type": "code",
   "execution_count": 2,
   "metadata": {},
   "outputs": [
    {
     "name": "stdout",
     "output_type": "stream",
     "text": [
      "  Feature  VIF value\n",
      "0      x1   5.033925\n",
      "1      x2   1.204054\n",
      "2      x3   1.000111\n",
      "3      x4   1.400975\n",
      "4      x5   1.547530\n",
      "5      x6   5.087386\n",
      "6      x7   1.530043\n"
     ]
    }
   ],
   "source": [
    "from statsmodels.stats.outliers_influence import variance_inflation_factor\n",
    "\n",
    "#Calculating VIF for each feature\n",
    "vif = pd.DataFrame()\n",
    "vif[\"Feature\"] = df_processed.columns\n",
    "vif[\"VIF value\"] = [variance_inflation_factor(df_processed.values, i) for i in range(df_processed.shape[1])]\n",
    "\n",
    "print(vif)\n"
   ]
  },
  {
   "cell_type": "code",
   "execution_count": 3,
   "metadata": {},
   "outputs": [
    {
     "name": "stdout",
     "output_type": "stream",
     "text": [
      "Selected Features From Forward Selection: Index(['x4', 'x6', 'x7'], dtype='object')\n",
      "Selected Features From Backward Elimination: Index(['x1', 'x4', 'x5', 'x7'], dtype='object')\n"
     ]
    }
   ],
   "source": [
    "import pandas as pd\n",
    "import numpy as np\n",
    "import statsmodels.api as sm\n",
    "from sklearn.feature_selection import SequentialFeatureSelector\n",
    "from sklearn.linear_model import LinearRegression\n",
    "\n",
    "#Import test data and separate into X and Y\n",
    "df_test = pd.read_csv('combined-test.csv')\n",
    "X_test = df_test[['x1', 'x2', 'x3', 'x4', 'x5', 'x6', 'x7']]\n",
    "Y_test = df_test['BIS']\n",
    "\n",
    "#Training data set separated into X and Y\n",
    "X_train = df_no_outliers[['x1', 'x2', 'x3', 'x4', 'x5', 'x6', 'x7']]  # Removed x6 based on multicollinearity\n",
    "Y_train = df_no_outliers['BIS']\n",
    "\n",
    "#Create a linear regression model\n",
    "model = LinearRegression()\n",
    "\n",
    "#Perform forward feature selection with linear regression estimator and r2 scoring\n",
    "sfs = SequentialFeatureSelector(model, direction='forward', n_features_to_select='auto', scoring='r2')\n",
    "sfs.fit(X_train, Y_train)\n",
    "\n",
    "#Prompt features selected from forward selection\n",
    "selected_features_f = X_train.columns[sfs.get_support()]\n",
    "print(f\"Selected Features From Forward Selection: {selected_features_f}\")\n",
    "\n",
    "#Perform backward feature selection with linear regression estimator and r2 scoring\n",
    "sbs = SequentialFeatureSelector(model, direction='backward', n_features_to_select='auto', scoring='r2')\n",
    "sbs.fit(X_train, Y_train)\n",
    "\n",
    "#Prompt features selected from backward selection\n",
    "selected_features_b = X_train.columns[sbs.get_support()]\n",
    "print(f\"Selected Features From Backward Elimination: {selected_features_b}\")\n"
   ]
  }
 ],
 "metadata": {
  "kernelspec": {
   "display_name": "sklearn-env",
   "language": "python",
   "name": "python3"
  },
  "language_info": {
   "codemirror_mode": {
    "name": "ipython",
    "version": 3
   },
   "file_extension": ".py",
   "mimetype": "text/x-python",
   "name": "python",
   "nbconvert_exporter": "python",
   "pygments_lexer": "ipython3",
   "version": "3.12.6"
  }
 },
 "nbformat": 4,
 "nbformat_minor": 2
}
