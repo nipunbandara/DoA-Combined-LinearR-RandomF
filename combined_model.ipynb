{
 "cells": [
  {
   "cell_type": "code",
   "execution_count": 1,
   "metadata": {},
   "outputs": [],
   "source": [
    "import pandas as pd\n",
    "import numpy as np\n",
    "from scipy import stats\n",
    "from sklearn.preprocessing import StandardScaler\n",
    "\n",
    "df = pd.read_csv('combined-training.csv')\n",
    "scaler = StandardScaler()\n",
    "\n",
    "#Removing outliers from X2, X3, X4, X5, and X7 using Z-score method\n",
    "z_scores = np.abs(stats.zscore(df[['x1', 'x2', 'x3', 'x4', 'x5', 'x6', 'x7']]))\n",
    "df_no_outliers = df[(z_scores < 3).all(axis=1)]\n",
    "\n",
    "#Standardizing the data\n",
    "scaled_features = scaler.fit_transform(df_no_outliers[['x1', 'x2', 'x3', 'x4', 'x5', 'x6', 'x7']])\n",
    "\n",
    "#Creating a new DataFrame with the standardized data\n",
    "df_processed = pd.DataFrame(scaled_features, columns=['x1', 'x2', 'x3', 'x4', 'x5', 'x6', 'x7'])\n"
   ]
  },
  {
   "cell_type": "code",
   "execution_count": 2,
   "metadata": {},
   "outputs": [
    {
     "name": "stdout",
     "output_type": "stream",
     "text": [
      "  Feature  VIF value\n",
      "0      x1   5.033925\n",
      "1      x2   1.204054\n",
      "2      x3   1.000111\n",
      "3      x4   1.400975\n",
      "4      x5   1.547530\n",
      "5      x6   5.087386\n",
      "6      x7   1.530043\n"
     ]
    }
   ],
   "source": [
    "from statsmodels.stats.outliers_influence import variance_inflation_factor\n",
    "\n",
    "#Calculating VIF for each feature\n",
    "vif = pd.DataFrame()\n",
    "vif[\"Feature\"] = df_processed.columns\n",
    "vif[\"VIF value\"] = [variance_inflation_factor(df_processed.values, i) for i in range(df_processed.shape[1])]\n",
    "\n",
    "print(vif)\n"
   ]
  },
  {
   "cell_type": "code",
   "execution_count": 8,
   "metadata": {},
   "outputs": [
    {
     "name": "stdout",
     "output_type": "stream",
     "text": [
      "Selected Features From Forward Selection: Index(['x4', 'x6', 'x7'], dtype='object')\n",
      "Selected Features From Backward Elimination: Index(['x1', 'x4', 'x5', 'x7'], dtype='object')\n"
     ]
    }
   ],
   "source": [
    "import pandas as pd\n",
    "import numpy as np\n",
    "import statsmodels.api as sm\n",
    "from sklearn.feature_selection import SequentialFeatureSelector\n",
    "from sklearn.linear_model import LinearRegression\n",
    "\n",
    "#Import test data and separate into X and Y\n",
    "df_test = pd.read_csv('combined-test.csv')\n",
    "X_test = df_test[['x1', 'x2', 'x3', 'x4', 'x5', 'x6', 'x7']]\n",
    "Y_test = df_test['BIS']\n",
    "\n",
    "#Training data set separated into X and Y\n",
    "X_train = df_no_outliers[['x1', 'x2', 'x3', 'x4', 'x5', 'x6', 'x7']]  # Removed x6 based on multicollinearity\n",
    "Y_train = df_no_outliers['BIS']\n",
    "\n",
    "#Create a linear regression model\n",
    "model = LinearRegression()\n",
    "\n",
    "#Perform forward feature selection with linear regression estimator and r2 scoring\n",
    "sfs = SequentialFeatureSelector(model, direction='forward', n_features_to_select='auto', scoring='r2')\n",
    "sfs.fit(X_train, Y_train)\n",
    "\n",
    "#Prompt features selected from forward selection\n",
    "selected_features_fw = X_train.columns[sfs.get_support()]\n",
    "print(f\"Selected Features From Forward Selection: {selected_features_fw}\")\n",
    "\n",
    "#Perform backward feature selection with linear regression estimator and r2 scoring\n",
    "sbs = SequentialFeatureSelector(model, direction='backward', n_features_to_select='auto', scoring='r2')\n",
    "sbs.fit(X_train, Y_train)\n",
    "\n",
    "#Prompt features selected from backward selection\n",
    "selected_features_bw = X_train.columns[sbs.get_support()]\n",
    "print(f\"Selected Features From Backward Elimination: {selected_features_bw}\")\n"
   ]
  },
  {
   "cell_type": "code",
   "execution_count": 10,
   "metadata": {},
   "outputs": [
    {
     "name": "stdout",
     "output_type": "stream",
     "text": [
      "-------------------Forward Selection Model-------------------\n",
      "                            OLS Regression Results                            \n",
      "==============================================================================\n",
      "Dep. Variable:                    BIS   R-squared:                       0.611\n",
      "Model:                            OLS   Adj. R-squared:                  0.611\n",
      "Method:                 Least Squares   F-statistic:                 1.645e+04\n",
      "Date:                Fri, 13 Dec 2024   Prob (F-statistic):               0.00\n",
      "Time:                        13:04:55   Log-Likelihood:            -1.1377e+05\n",
      "No. Observations:               31442   AIC:                         2.275e+05\n",
      "Df Residuals:                   31438   BIC:                         2.276e+05\n",
      "Df Model:                           3                                         \n",
      "Covariance Type:            nonrobust                                         \n",
      "==============================================================================\n",
      "                 coef    std err          t      P>|t|      [0.025      0.975]\n",
      "------------------------------------------------------------------------------\n",
      "const        294.2303      3.230     91.096      0.000     287.900     300.561\n",
      "x4            12.1434      0.079    152.753      0.000      11.988      12.299\n",
      "x6             9.6956      0.211     45.898      0.000       9.282      10.110\n",
      "x7          -696.2465      8.140    -85.536      0.000    -712.201    -680.292\n",
      "==============================================================================\n",
      "Omnibus:                     1575.590   Durbin-Watson:                   0.126\n",
      "Prob(Omnibus):                  0.000   Jarque-Bera (JB):             4697.508\n",
      "Skew:                           0.221   Prob(JB):                         0.00\n",
      "Kurtosis:                       4.841   Cond. No.                         269.\n",
      "==============================================================================\n",
      "\n",
      "Notes:\n",
      "[1] Standard Errors assume that the covariance matrix of the errors is correctly specified.\n",
      "\n",
      "\n",
      "-------------------Backward Elimination Model-------------------\n",
      "                            OLS Regression Results                            \n",
      "==============================================================================\n",
      "Dep. Variable:                    BIS   R-squared:                       0.625\n",
      "Model:                            OLS   Adj. R-squared:                  0.625\n",
      "Method:                 Least Squares   F-statistic:                 1.309e+04\n",
      "Date:                Fri, 13 Dec 2024   Prob (F-statistic):               0.00\n",
      "Time:                        13:04:55   Log-Likelihood:            -1.1319e+05\n",
      "No. Observations:               31442   AIC:                         2.264e+05\n",
      "Df Residuals:                   31437   BIC:                         2.264e+05\n",
      "Df Model:                           4                                         \n",
      "Covariance Type:            nonrobust                                         \n",
      "==============================================================================\n",
      "                 coef    std err          t      P>|t|      [0.025      0.975]\n",
      "------------------------------------------------------------------------------\n",
      "const        129.7323      5.450     23.802      0.000     119.049     140.415\n",
      "x1            58.7078      1.290     45.510      0.000      56.179      61.236\n",
      "x4            11.1365      0.083    134.130      0.000      10.974      11.299\n",
      "x5            89.2698      2.948     30.279      0.000      83.491      95.048\n",
      "x7          -585.9515      8.636    -67.848      0.000    -602.879    -569.024\n",
      "==============================================================================\n",
      "Omnibus:                     2045.040   Durbin-Watson:                   0.097\n",
      "Prob(Omnibus):                  0.000   Jarque-Bera (JB):             5851.780\n",
      "Skew:                           0.345   Prob(JB):                         0.00\n",
      "Kurtosis:                       4.997   Cond. No.                         369.\n",
      "==============================================================================\n",
      "\n",
      "Notes:\n",
      "[1] Standard Errors assume that the covariance matrix of the errors is correctly specified.\n"
     ]
    }
   ],
   "source": [
    "#creating a model for forward selected features\n",
    "X_train_fw = X_train[selected_features_fw]\n",
    "X_test_fw = X_test[selected_features_fw]\n",
    "fw_model = sm.OLS(Y_train, sm.add_constant(X_train_fw)).fit()\n",
    "\n",
    "#creating a model for backward selected features\n",
    "X_train_bw = X_train[selected_features_bw]\n",
    "X_test_bw = X_test[selected_features_bw]\n",
    "bw_model = sm.OLS(Y_train, sm.add_constant(X_train_bw)).fit()\n",
    "\n",
    "print(\"-------------------Forward Selection Model-------------------\")\n",
    "print(fw_model.summary())\n",
    "print(\"\\n\")\n",
    "print(\"-------------------Backward Elimination Model-------------------\")\n",
    "print(bw_model.summary())\n",
    "\n",
    "\n"
   ]
  }
 ],
 "metadata": {
  "kernelspec": {
   "display_name": "sklearn-env",
   "language": "python",
   "name": "python3"
  },
  "language_info": {
   "codemirror_mode": {
    "name": "ipython",
    "version": 3
   },
   "file_extension": ".py",
   "mimetype": "text/x-python",
   "name": "python",
   "nbconvert_exporter": "python",
   "pygments_lexer": "ipython3",
   "version": "3.12.6"
  }
 },
 "nbformat": 4,
 "nbformat_minor": 2
}
